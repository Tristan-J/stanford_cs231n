{
 "cells": [
  {
   "cell_type": "code",
   "execution_count": 1,
   "metadata": {},
   "outputs": [
    {
     "name": "stdout",
     "output_type": "stream",
     "text": [
      "Using matplotlib backend: Qt5Agg\n"
     ]
    }
   ],
   "source": [
    "import sys\n",
    "import os\n",
    "\n",
    "import scipy.misc\n",
    "import torch\n",
    "from torch import nn\n",
    "import torch.nn.functional as F\n",
    "from torch.utils.data import Dataset, DataLoader\n",
    "from torch.nn import DataParallel\n",
    "from torch.nn.parallel import DistributedDataParallel\n",
    "\n",
    "from tqdm.notebook import tqdm\n",
    "\n",
    "import torchvision\n",
    "from torchvision import datasets as torchsets\n",
    "import matplotlib.pyplot as plt\n",
    "%matplotlib"
   ]
  },
  {
   "cell_type": "code",
   "execution_count": 2,
   "metadata": {},
   "outputs": [],
   "source": [
    "if sys.version_info[0] < 3:\n",
    "    raise Excpetion('You must use Python 3 or higher.')"
   ]
  },
  {
   "cell_type": "code",
   "execution_count": 3,
   "metadata": {},
   "outputs": [],
   "source": [
    "class DatasetRepeater(Dataset):\n",
    "    def __init__(self, dataset, num_repeats=100):\n",
    "        self.dataset = dataset\n",
    "        self.num_repeats = num_repeats\n",
    "        \n",
    "    def __len__(self):\n",
    "        return self.num_repeats*self.dataset.__len__()\n",
    "    \n",
    "    def __getitem__(self, idx):\n",
    "        return self.dataset[idx % self.dataset.__len__()]"
   ]
  },
  {
   "cell_type": "code",
   "execution_count": 4,
   "metadata": {},
   "outputs": [
    {
     "name": "stdout",
     "output_type": "stream",
     "text": [
      "6000000\n",
      "torch.Size([10000, 28, 28])\n"
     ]
    }
   ],
   "source": [
    "mnist_train = torchsets.MNIST(root='./data', train=True, download=True, transform=torchvision.transforms.ToTensor())\n",
    "mnist_test = torchsets.MNIST(root='./data', train=False, download=True, transform=torchvision.transforms.ToTensor())\n",
    "\n",
    "mnist_train = DatasetRepeater(mnist_train)\n",
    "\n",
    "print(len(mnist_train))\n",
    "print(mnist_test.test_data.shape)"
   ]
  },
  {
   "cell_type": "code",
   "execution_count": 5,
   "metadata": {},
   "outputs": [],
   "source": [
    "class Tnet(nn.Module):\n",
    "    def __init__(self):\n",
    "        super(Tnet, self).__init__()\n",
    "        self.conv0 = nn.Conv2d(1, 1, kernel_size=3, padding=1)\n",
    "        self.conv1 = nn.Conv2d(1, 1, kernel_size=3, padding=1)\n",
    "        self.fc = nn.Linear(16, 10)\n",
    "        self.softmax = nn.Softmax(dim=1)        \n",
    "        \n",
    "    def forward(self, x):\n",
    "        x = F.relu(self.conv0(x))\n",
    "        x = F.relu(self.conv1(x))\n",
    "        x = F.max_pool2d(x, kernel_size=7)\n",
    "        x = x.view(-1, 16)\n",
    "        x = self.fc(x)\n",
    "        return x"
   ]
  },
  {
   "cell_type": "code",
   "execution_count": 6,
   "metadata": {},
   "outputs": [],
   "source": [
    "train_loader = DataLoader(mnist_train, batch_size=10, shuffle=True, num_workers=1)\n",
    "test_loader = DataLoader(mnist_test, batch_size=10, shuffle=True, num_workers=1)"
   ]
  },
  {
   "cell_type": "code",
   "execution_count": 7,
   "metadata": {},
   "outputs": [],
   "source": [
    "tnet = Tnet()\n",
    "criterion = nn.CrossEntropyLoss()"
   ]
  },
  {
   "cell_type": "code",
   "execution_count": 8,
   "metadata": {},
   "outputs": [],
   "source": [
    "# if torch.cuda.is_available():\n",
    "#     tnet = DataParallel(tnet, device_ids=list(range(torch.cuda.device_count())))\n",
    "# tnet.train()\n",
    "# print(0)\n",
    "\n",
    "# optimizer = torch.optim.Adam(tnet.parameters(), lr=0.001, betas=(0.5, 0.999))\n",
    "# print(0.5)\n",
    "\n",
    "# for epoch in range(100):\n",
    "#     total_loss = 0\n",
    "#     with tqdm(total=len(train_loader)) as tqdm_bar:\n",
    "#         for i, (x, y) in enumerate(train_loader):\n",
    "#             print('1')\n",
    "#             x = x.cuda()\n",
    "#             y = y.cuda()\n",
    "#             out = tnet(x)\n",
    "#             loss = criterion(out, y)\n",
    "#             total_loss += loss\n",
    "#             print('2')\n",
    "\n",
    "#             loss.backward()\n",
    "#             optimizer.step()\n",
    "#             optimizer.zero_grad()\n",
    "            \n",
    "#             print('3')\n",
    "#             if loss < 0.1:\n",
    "#                 tqdm_bar.set_description('loss: {:f}'.format(loss))\n",
    "#             tqdm_bar.update(1)\n",
    "#         print(epoch, total_loss/len(train_loader))\n"
   ]
  },
  {
   "cell_type": "code",
   "execution_count": 9,
   "metadata": {},
   "outputs": [
    {
     "name": "stderr",
     "output_type": "stream",
     "text": [
      "Downloading: \"https://download.pytorch.org/models/vgg19-dcbb9e9d.pth\" to C:\\Users\\asus/.torch\\models\\vgg19-dcbb9e9d.pth\n",
      "100%|███████████████████████████████████████████████████████████████████████████████████████████████████████████████████████████| 574673361/574673361 [1:28:07<00:00, 108677.45it/s]\n"
     ]
    }
   ],
   "source": [
    "vgg19 = torchvision.models.vgg19(pretrained=True)"
   ]
  },
  {
   "cell_type": "code",
   "execution_count": 10,
   "metadata": {},
   "outputs": [
    {
     "name": "stdout",
     "output_type": "stream",
     "text": [
      "VGG(\n",
      "  (features): Sequential(\n",
      "    (0): Conv2d(3, 64, kernel_size=(3, 3), stride=(1, 1), padding=(1, 1))\n",
      "    (1): ReLU(inplace)\n",
      "    (2): Conv2d(64, 64, kernel_size=(3, 3), stride=(1, 1), padding=(1, 1))\n",
      "    (3): ReLU(inplace)\n",
      "    (4): MaxPool2d(kernel_size=2, stride=2, padding=0, dilation=1, ceil_mode=False)\n",
      "    (5): Conv2d(64, 128, kernel_size=(3, 3), stride=(1, 1), padding=(1, 1))\n",
      "    (6): ReLU(inplace)\n",
      "    (7): Conv2d(128, 128, kernel_size=(3, 3), stride=(1, 1), padding=(1, 1))\n",
      "    (8): ReLU(inplace)\n",
      "    (9): MaxPool2d(kernel_size=2, stride=2, padding=0, dilation=1, ceil_mode=False)\n",
      "    (10): Conv2d(128, 256, kernel_size=(3, 3), stride=(1, 1), padding=(1, 1))\n",
      "    (11): ReLU(inplace)\n",
      "    (12): Conv2d(256, 256, kernel_size=(3, 3), stride=(1, 1), padding=(1, 1))\n",
      "    (13): ReLU(inplace)\n",
      "    (14): Conv2d(256, 256, kernel_size=(3, 3), stride=(1, 1), padding=(1, 1))\n",
      "    (15): ReLU(inplace)\n",
      "    (16): Conv2d(256, 256, kernel_size=(3, 3), stride=(1, 1), padding=(1, 1))\n",
      "    (17): ReLU(inplace)\n",
      "    (18): MaxPool2d(kernel_size=2, stride=2, padding=0, dilation=1, ceil_mode=False)\n",
      "    (19): Conv2d(256, 512, kernel_size=(3, 3), stride=(1, 1), padding=(1, 1))\n",
      "    (20): ReLU(inplace)\n",
      "    (21): Conv2d(512, 512, kernel_size=(3, 3), stride=(1, 1), padding=(1, 1))\n",
      "    (22): ReLU(inplace)\n",
      "    (23): Conv2d(512, 512, kernel_size=(3, 3), stride=(1, 1), padding=(1, 1))\n",
      "    (24): ReLU(inplace)\n",
      "    (25): Conv2d(512, 512, kernel_size=(3, 3), stride=(1, 1), padding=(1, 1))\n",
      "    (26): ReLU(inplace)\n",
      "    (27): MaxPool2d(kernel_size=2, stride=2, padding=0, dilation=1, ceil_mode=False)\n",
      "    (28): Conv2d(512, 512, kernel_size=(3, 3), stride=(1, 1), padding=(1, 1))\n",
      "    (29): ReLU(inplace)\n",
      "    (30): Conv2d(512, 512, kernel_size=(3, 3), stride=(1, 1), padding=(1, 1))\n",
      "    (31): ReLU(inplace)\n",
      "    (32): Conv2d(512, 512, kernel_size=(3, 3), stride=(1, 1), padding=(1, 1))\n",
      "    (33): ReLU(inplace)\n",
      "    (34): Conv2d(512, 512, kernel_size=(3, 3), stride=(1, 1), padding=(1, 1))\n",
      "    (35): ReLU(inplace)\n",
      "    (36): MaxPool2d(kernel_size=2, stride=2, padding=0, dilation=1, ceil_mode=False)\n",
      "  )\n",
      "  (classifier): Sequential(\n",
      "    (0): Linear(in_features=25088, out_features=4096, bias=True)\n",
      "    (1): ReLU(inplace)\n",
      "    (2): Dropout(p=0.5)\n",
      "    (3): Linear(in_features=4096, out_features=4096, bias=True)\n",
      "    (4): ReLU(inplace)\n",
      "    (5): Dropout(p=0.5)\n",
      "    (6): Linear(in_features=4096, out_features=1000, bias=True)\n",
      "  )\n",
      ")\n"
     ]
    }
   ],
   "source": [
    "print(vgg19)"
   ]
  },
  {
   "cell_type": "code",
   "execution_count": 11,
   "metadata": {},
   "outputs": [
    {
     "name": "stdout",
     "output_type": "stream",
     "text": [
      "0:2 Sequential(\n",
      "  (0): Conv2d(3, 64, kernel_size=(3, 3), stride=(1, 1), padding=(1, 1))\n",
      "  (1): ReLU(inplace)\n",
      ")\n",
      "2:7 Sequential(\n",
      "  (2): Conv2d(64, 64, kernel_size=(3, 3), stride=(1, 1), padding=(1, 1))\n",
      "  (3): ReLU(inplace)\n",
      "  (4): MaxPool2d(kernel_size=2, stride=2, padding=0, dilation=1, ceil_mode=False)\n",
      "  (5): Conv2d(64, 128, kernel_size=(3, 3), stride=(1, 1), padding=(1, 1))\n",
      "  (6): ReLU(inplace)\n",
      ")\n",
      "7:12 Sequential(\n",
      "  (7): Conv2d(128, 128, kernel_size=(3, 3), stride=(1, 1), padding=(1, 1))\n",
      "  (8): ReLU(inplace)\n",
      "  (9): MaxPool2d(kernel_size=2, stride=2, padding=0, dilation=1, ceil_mode=False)\n",
      "  (10): Conv2d(128, 256, kernel_size=(3, 3), stride=(1, 1), padding=(1, 1))\n",
      "  (11): ReLU(inplace)\n",
      ")\n"
     ]
    }
   ],
   "source": [
    "print('0:2', vgg19.features[0:2])\n",
    "print('2:7', vgg19.features[2:7])\n",
    "print('7:12', vgg19.features[7:12])"
   ]
  },
  {
   "cell_type": "code",
   "execution_count": 12,
   "metadata": {},
   "outputs": [],
   "source": [
    "meshgrids = torch.meshgrid([torch.arange(5, dtype=torch.float32) for _ in range(2)])"
   ]
  },
  {
   "cell_type": "code",
   "execution_count": 13,
   "metadata": {},
   "outputs": [
    {
     "name": "stdout",
     "output_type": "stream",
     "text": [
      "(tensor([[0., 0., 0., 0., 0.],\n",
      "        [1., 1., 1., 1., 1.],\n",
      "        [2., 2., 2., 2., 2.],\n",
      "        [3., 3., 3., 3., 3.],\n",
      "        [4., 4., 4., 4., 4.]]), tensor([[0., 1., 2., 3., 4.],\n",
      "        [0., 1., 2., 3., 4.],\n",
      "        [0., 1., 2., 3., 4.],\n",
      "        [0., 1., 2., 3., 4.],\n",
      "        [0., 1., 2., 3., 4.]]))\n"
     ]
    }
   ],
   "source": [
    "print(meshgrids)"
   ]
  },
  {
   "cell_type": "code",
   "execution_count": 14,
   "metadata": {},
   "outputs": [],
   "source": [
    "sigma = [.5, .5]\n",
    "kernel_size = [5, 5]\n",
    "mean = 2"
   ]
  },
  {
   "cell_type": "code",
   "execution_count": 15,
   "metadata": {},
   "outputs": [
    {
     "name": "stdout",
     "output_type": "stream",
     "text": [
      "tensor([[0., 0., 0., 0., 0.],\n",
      "        [1., 1., 1., 1., 1.],\n",
      "        [2., 2., 2., 2., 2.],\n",
      "        [3., 3., 3., 3., 3.],\n",
      "        [4., 4., 4., 4., 4.]])\n",
      "kernel:  tensor([[3.3546e-04, 3.3546e-04, 3.3546e-04, 3.3546e-04, 3.3546e-04],\n",
      "        [1.3534e-01, 1.3534e-01, 1.3534e-01, 1.3534e-01, 1.3534e-01],\n",
      "        [1.0000e+00, 1.0000e+00, 1.0000e+00, 1.0000e+00, 1.0000e+00],\n",
      "        [1.3534e-01, 1.3534e-01, 1.3534e-01, 1.3534e-01, 1.3534e-01],\n",
      "        [3.3546e-04, 3.3546e-04, 3.3546e-04, 3.3546e-04, 3.3546e-04]])\n",
      "tensor([[0., 1., 2., 3., 4.],\n",
      "        [0., 1., 2., 3., 4.],\n",
      "        [0., 1., 2., 3., 4.],\n",
      "        [0., 1., 2., 3., 4.],\n",
      "        [0., 1., 2., 3., 4.]])\n",
      "kernel:  tensor([[1.1254e-07, 4.5400e-05, 3.3546e-04, 4.5400e-05, 1.1254e-07],\n",
      "        [4.5400e-05, 1.8316e-02, 1.3534e-01, 1.8316e-02, 4.5400e-05],\n",
      "        [3.3546e-04, 1.3534e-01, 1.0000e+00, 1.3534e-01, 3.3546e-04],\n",
      "        [4.5400e-05, 1.8316e-02, 1.3534e-01, 1.8316e-02, 4.5400e-05],\n",
      "        [1.1254e-07, 4.5400e-05, 3.3546e-04, 4.5400e-05, 1.1254e-07]])\n"
     ]
    }
   ],
   "source": [
    "kernel = 1\n",
    "for size, std, mgrid in zip(kernel_size, sigma, meshgrids):\n",
    "    print(mgrid)\n",
    "    kernel *= torch.exp(-(mgrid-mean)**2 / (2*std**2))\n",
    "    print('kernel: ', kernel)"
   ]
  },
  {
   "cell_type": "code",
   "execution_count": 16,
   "metadata": {},
   "outputs": [
    {
     "data": {
      "text/plain": [
       "1.125334116e-07"
      ]
     },
     "execution_count": 16,
     "metadata": {},
     "output_type": "execute_result"
    }
   ],
   "source": [
    "3.3546e-04**2"
   ]
  },
  {
   "cell_type": "code",
   "execution_count": 17,
   "metadata": {},
   "outputs": [
    {
     "name": "stdout",
     "output_type": "stream",
     "text": [
      "torch.Size([1, 1, 5, 5])\n",
      "torch.Size([128, 1, 5, 5])\n"
     ]
    }
   ],
   "source": [
    "kernel_norm = kernel/kernel.sum()\n",
    "kernel = kernel_norm\n",
    "kernel = kernel.view(1,1,*kernel.shape)\n",
    "print(kernel.shape)\n",
    "kernel = kernel.repeat(128, *[1]*(kernel.dim()-1))\n",
    "print(kernel.shape)"
   ]
  },
  {
   "cell_type": "code",
   "execution_count": 21,
   "metadata": {},
   "outputs": [
    {
     "name": "stdout",
     "output_type": "stream",
     "text": [
      "torch.Size([3, 1, 2, 2])\n"
     ]
    }
   ],
   "source": [
    "t_out = torch.rand(3,1,4,4)\n",
    "print(F.interpolate(t_out, scale_factor=(0.5, 0.5)).shape)"
   ]
  },
  {
   "cell_type": "code",
   "execution_count": null,
   "metadata": {},
   "outputs": [],
   "source": []
  }
 ],
 "metadata": {
  "kernelspec": {
   "display_name": "Python 3",
   "language": "python",
   "name": "python3"
  },
  "language_info": {
   "codemirror_mode": {
    "name": "ipython",
    "version": 3
   },
   "file_extension": ".py",
   "mimetype": "text/x-python",
   "name": "python",
   "nbconvert_exporter": "python",
   "pygments_lexer": "ipython3",
   "version": "3.6.1"
  }
 },
 "nbformat": 4,
 "nbformat_minor": 2
}
